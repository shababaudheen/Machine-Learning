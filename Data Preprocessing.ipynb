{
 "cells": [
  {
   "cell_type": "markdown",
   "id": "010ec293-28d5-4ea4-89d9-44bf13b80d5d",
   "metadata": {},
   "source": [
    "Objective:\n",
    "The main objective of this project is to design and implement a robust data preprocessing system that addresses common challenges such as missing values, outliers, inconsistent formatting, and noise. By performing effective data preprocessing, the project aims to enhance the quality, reliability, and usefulness of the data for machine learning.\n",
    "\n",
    "Dataset: [Dataset for Data preprocessing](https://drive.google.com/file/d/1F3lRf32JM8ejnXq-Cbf9y7fa57zSHGz_/view)\n",
    "\n",
    "Key Components to be fulfilled:\n",
    "Data Exploration:   Explore the data, list down the unique values in each feature and find its length. Perform the statistical analysis and renaming of the columns.\n",
    "\n",
    "Data Cleaning: \n",
    "Find the missing and inappropriate values, treat them appropriately. Remove all duplicate rows. Find the outliers.\n",
    "Replace the value 0 in age as NaN\n",
    "Treat the null values in all columns using any measures(removing/ replace the values with mean/median/mode)\n",
    "\n",
    "Data Analysis:\n",
    "Filter the data with age >40 and salary<5000\n",
    "Plot the chart with age and salary\n",
    "Count the number of people from each place and represent it visually\n",
    "\n",
    "Data Encoding:\n",
    "Convert categorical variables into numerical representations using techniques such as one-hot encoding, label encoding, making them suitable for analysis by machine learning algorithms.\n",
    "\n",
    "Feature Scaling: \n",
    "After the process of encoding, perform the scaling of the features using standardscaler and minmaxscaler."
   ]
  },
  {
   "cell_type": "markdown",
   "id": "8f3c2070-7709-42f8-b396-d18277f3d515",
   "metadata": {},
   "source": [
    "## Importing Libraries"
   ]
  },
  {
   "cell_type": "code",
   "execution_count": 1,
   "id": "2c2ab68f-64e4-4aff-ba23-cd399ce4a46b",
   "metadata": {},
   "outputs": [],
   "source": [
    "import numpy as np\n",
    "import pandas as pd\n",
    "import matplotlib.pyplot as plt \n",
    "import seaborn as sns"
   ]
  },
  {
   "cell_type": "code",
   "execution_count": 2,
   "id": "a4e281a0-6ae6-412f-bcc7-3477342a271a",
   "metadata": {},
   "outputs": [
    {
     "name": "stdout",
     "output_type": "stream",
     "text": [
      "Requirement already satisfied: scikit-learn in c:\\users\\asnim\\appdata\\local\\programs\\python\\python312\\lib\\site-packages (1.5.0)\n",
      "Requirement already satisfied: numpy>=1.19.5 in c:\\users\\asnim\\appdata\\local\\programs\\python\\python312\\lib\\site-packages (from scikit-learn) (1.26.2)\n",
      "Requirement already satisfied: scipy>=1.6.0 in c:\\users\\asnim\\appdata\\local\\programs\\python\\python312\\lib\\site-packages (from scikit-learn) (1.13.1)\n",
      "Requirement already satisfied: joblib>=1.2.0 in c:\\users\\asnim\\appdata\\local\\programs\\python\\python312\\lib\\site-packages (from scikit-learn) (1.4.2)\n",
      "Requirement already satisfied: threadpoolctl>=3.1.0 in c:\\users\\asnim\\appdata\\local\\programs\\python\\python312\\lib\\site-packages (from scikit-learn) (3.5.0)\n",
      "Note: you may need to restart the kernel to use updated packages.\n"
     ]
    },
    {
     "name": "stderr",
     "output_type": "stream",
     "text": [
      "\n",
      "[notice] A new release of pip is available: 23.2.1 -> 24.0\n",
      "[notice] To update, run: python.exe -m pip install --upgrade pip\n"
     ]
    }
   ],
   "source": [
    "pip install scikit-learn"
   ]
  },
  {
   "cell_type": "markdown",
   "id": "ffedc4ab-3551-4280-a6c2-742daca45ec6",
   "metadata": {},
   "source": [
    "## Importing datasets"
   ]
  },
  {
   "cell_type": "code",
   "execution_count": 3,
   "id": "e23d3281-4b78-464a-8de9-1eecd403cc77",
   "metadata": {},
   "outputs": [
    {
     "data": {
      "text/html": [
       "<div>\n",
       "<style scoped>\n",
       "    .dataframe tbody tr th:only-of-type {\n",
       "        vertical-align: middle;\n",
       "    }\n",
       "\n",
       "    .dataframe tbody tr th {\n",
       "        vertical-align: top;\n",
       "    }\n",
       "\n",
       "    .dataframe thead th {\n",
       "        text-align: right;\n",
       "    }\n",
       "</style>\n",
       "<table border=\"1\" class=\"dataframe\">\n",
       "  <thead>\n",
       "    <tr style=\"text-align: right;\">\n",
       "      <th></th>\n",
       "      <th>Company</th>\n",
       "      <th>Age</th>\n",
       "      <th>Salary</th>\n",
       "      <th>Place</th>\n",
       "      <th>Country</th>\n",
       "      <th>Gender</th>\n",
       "    </tr>\n",
       "  </thead>\n",
       "  <tbody>\n",
       "    <tr>\n",
       "      <th>0</th>\n",
       "      <td>TCS</td>\n",
       "      <td>20.0</td>\n",
       "      <td>NaN</td>\n",
       "      <td>Chennai</td>\n",
       "      <td>India</td>\n",
       "      <td>0</td>\n",
       "    </tr>\n",
       "    <tr>\n",
       "      <th>1</th>\n",
       "      <td>Infosys</td>\n",
       "      <td>30.0</td>\n",
       "      <td>NaN</td>\n",
       "      <td>Mumbai</td>\n",
       "      <td>India</td>\n",
       "      <td>0</td>\n",
       "    </tr>\n",
       "    <tr>\n",
       "      <th>2</th>\n",
       "      <td>TCS</td>\n",
       "      <td>35.0</td>\n",
       "      <td>2300.0</td>\n",
       "      <td>Calcutta</td>\n",
       "      <td>India</td>\n",
       "      <td>0</td>\n",
       "    </tr>\n",
       "    <tr>\n",
       "      <th>3</th>\n",
       "      <td>Infosys</td>\n",
       "      <td>40.0</td>\n",
       "      <td>3000.0</td>\n",
       "      <td>Delhi</td>\n",
       "      <td>India</td>\n",
       "      <td>0</td>\n",
       "    </tr>\n",
       "    <tr>\n",
       "      <th>4</th>\n",
       "      <td>TCS</td>\n",
       "      <td>23.0</td>\n",
       "      <td>4000.0</td>\n",
       "      <td>Mumbai</td>\n",
       "      <td>India</td>\n",
       "      <td>0</td>\n",
       "    </tr>\n",
       "    <tr>\n",
       "      <th>...</th>\n",
       "      <td>...</td>\n",
       "      <td>...</td>\n",
       "      <td>...</td>\n",
       "      <td>...</td>\n",
       "      <td>...</td>\n",
       "      <td>...</td>\n",
       "    </tr>\n",
       "    <tr>\n",
       "      <th>143</th>\n",
       "      <td>TCS</td>\n",
       "      <td>33.0</td>\n",
       "      <td>9024.0</td>\n",
       "      <td>Calcutta</td>\n",
       "      <td>India</td>\n",
       "      <td>1</td>\n",
       "    </tr>\n",
       "    <tr>\n",
       "      <th>144</th>\n",
       "      <td>Infosys</td>\n",
       "      <td>22.0</td>\n",
       "      <td>8787.0</td>\n",
       "      <td>Calcutta</td>\n",
       "      <td>India</td>\n",
       "      <td>1</td>\n",
       "    </tr>\n",
       "    <tr>\n",
       "      <th>145</th>\n",
       "      <td>Infosys</td>\n",
       "      <td>44.0</td>\n",
       "      <td>4034.0</td>\n",
       "      <td>Delhi</td>\n",
       "      <td>India</td>\n",
       "      <td>1</td>\n",
       "    </tr>\n",
       "    <tr>\n",
       "      <th>146</th>\n",
       "      <td>TCS</td>\n",
       "      <td>33.0</td>\n",
       "      <td>5034.0</td>\n",
       "      <td>Mumbai</td>\n",
       "      <td>India</td>\n",
       "      <td>1</td>\n",
       "    </tr>\n",
       "    <tr>\n",
       "      <th>147</th>\n",
       "      <td>Infosys</td>\n",
       "      <td>22.0</td>\n",
       "      <td>8202.0</td>\n",
       "      <td>Cochin</td>\n",
       "      <td>India</td>\n",
       "      <td>0</td>\n",
       "    </tr>\n",
       "  </tbody>\n",
       "</table>\n",
       "<p>148 rows × 6 columns</p>\n",
       "</div>"
      ],
      "text/plain": [
       "     Company   Age  Salary     Place Country  Gender\n",
       "0        TCS  20.0     NaN   Chennai   India       0\n",
       "1    Infosys  30.0     NaN    Mumbai   India       0\n",
       "2        TCS  35.0  2300.0  Calcutta   India       0\n",
       "3    Infosys  40.0  3000.0     Delhi   India       0\n",
       "4        TCS  23.0  4000.0    Mumbai   India       0\n",
       "..       ...   ...     ...       ...     ...     ...\n",
       "143      TCS  33.0  9024.0  Calcutta   India       1\n",
       "144  Infosys  22.0  8787.0  Calcutta   India       1\n",
       "145  Infosys  44.0  4034.0     Delhi   India       1\n",
       "146      TCS  33.0  5034.0    Mumbai   India       1\n",
       "147  Infosys  22.0  8202.0    Cochin   India       0\n",
       "\n",
       "[148 rows x 6 columns]"
      ]
     },
     "execution_count": 3,
     "metadata": {},
     "output_type": "execute_result"
    }
   ],
   "source": [
    "df = pd.read_csv(\"Employee.csv\") \n",
    "df"
   ]
  },
  {
   "cell_type": "markdown",
   "id": "e015748a-d5b8-4716-a4ce-16c39efd2cc0",
   "metadata": {},
   "source": [
    "## Data Cleaning"
   ]
  },
  {
   "cell_type": "code",
   "execution_count": 4,
   "id": "f718f4b9-e454-4c99-a836-081b026b5610",
   "metadata": {},
   "outputs": [
    {
     "name": "stdout",
     "output_type": "stream",
     "text": [
      "<class 'pandas.core.frame.DataFrame'>\n",
      "RangeIndex: 148 entries, 0 to 147\n",
      "Data columns (total 6 columns):\n",
      " #   Column   Non-Null Count  Dtype  \n",
      "---  ------   --------------  -----  \n",
      " 0   Company  140 non-null    object \n",
      " 1   Age      130 non-null    float64\n",
      " 2   Salary   124 non-null    float64\n",
      " 3   Place    134 non-null    object \n",
      " 4   Country  148 non-null    object \n",
      " 5   Gender   148 non-null    int64  \n",
      "dtypes: float64(2), int64(1), object(3)\n",
      "memory usage: 7.1+ KB\n"
     ]
    }
   ],
   "source": [
    "df.info()"
   ]
  },
  {
   "cell_type": "markdown",
   "id": "22728d98-45be-4c7f-ba10-55ec5523cd5f",
   "metadata": {},
   "source": [
    "Here the columns 'Country' and 'Gender' has no null value"
   ]
  },
  {
   "cell_type": "code",
   "execution_count": 5,
   "id": "893e8b6b-239d-4f9f-bbe6-82a29a8e5b9c",
   "metadata": {},
   "outputs": [
    {
     "data": {
      "text/html": [
       "<div>\n",
       "<style scoped>\n",
       "    .dataframe tbody tr th:only-of-type {\n",
       "        vertical-align: middle;\n",
       "    }\n",
       "\n",
       "    .dataframe tbody tr th {\n",
       "        vertical-align: top;\n",
       "    }\n",
       "\n",
       "    .dataframe thead th {\n",
       "        text-align: right;\n",
       "    }\n",
       "</style>\n",
       "<table border=\"1\" class=\"dataframe\">\n",
       "  <thead>\n",
       "    <tr style=\"text-align: right;\">\n",
       "      <th></th>\n",
       "      <th>Age</th>\n",
       "      <th>Salary</th>\n",
       "      <th>Gender</th>\n",
       "    </tr>\n",
       "  </thead>\n",
       "  <tbody>\n",
       "    <tr>\n",
       "      <th>count</th>\n",
       "      <td>130.000000</td>\n",
       "      <td>124.000000</td>\n",
       "      <td>148.000000</td>\n",
       "    </tr>\n",
       "    <tr>\n",
       "      <th>mean</th>\n",
       "      <td>30.484615</td>\n",
       "      <td>5312.467742</td>\n",
       "      <td>0.222973</td>\n",
       "    </tr>\n",
       "    <tr>\n",
       "      <th>std</th>\n",
       "      <td>11.096640</td>\n",
       "      <td>2573.764683</td>\n",
       "      <td>0.417654</td>\n",
       "    </tr>\n",
       "    <tr>\n",
       "      <th>min</th>\n",
       "      <td>0.000000</td>\n",
       "      <td>1089.000000</td>\n",
       "      <td>0.000000</td>\n",
       "    </tr>\n",
       "    <tr>\n",
       "      <th>25%</th>\n",
       "      <td>22.000000</td>\n",
       "      <td>3030.000000</td>\n",
       "      <td>0.000000</td>\n",
       "    </tr>\n",
       "    <tr>\n",
       "      <th>50%</th>\n",
       "      <td>32.500000</td>\n",
       "      <td>5000.000000</td>\n",
       "      <td>0.000000</td>\n",
       "    </tr>\n",
       "    <tr>\n",
       "      <th>75%</th>\n",
       "      <td>37.750000</td>\n",
       "      <td>8000.000000</td>\n",
       "      <td>0.000000</td>\n",
       "    </tr>\n",
       "    <tr>\n",
       "      <th>max</th>\n",
       "      <td>54.000000</td>\n",
       "      <td>9876.000000</td>\n",
       "      <td>1.000000</td>\n",
       "    </tr>\n",
       "  </tbody>\n",
       "</table>\n",
       "</div>"
      ],
      "text/plain": [
       "              Age       Salary      Gender\n",
       "count  130.000000   124.000000  148.000000\n",
       "mean    30.484615  5312.467742    0.222973\n",
       "std     11.096640  2573.764683    0.417654\n",
       "min      0.000000  1089.000000    0.000000\n",
       "25%     22.000000  3030.000000    0.000000\n",
       "50%     32.500000  5000.000000    0.000000\n",
       "75%     37.750000  8000.000000    0.000000\n",
       "max     54.000000  9876.000000    1.000000"
      ]
     },
     "execution_count": 5,
     "metadata": {},
     "output_type": "execute_result"
    }
   ],
   "source": [
    "df.describe()"
   ]
  },
  {
   "cell_type": "markdown",
   "id": "a5fbf410-99d8-4d3c-8726-893d070a7621",
   "metadata": {},
   "source": [
    "Here the mean and median(i.e., 50%) is almost similar, so the data must be of less outliers"
   ]
  },
  {
   "cell_type": "code",
   "execution_count": 6,
   "id": "4b66ad0b-de68-4b67-8f2d-a79c6dee103f",
   "metadata": {},
   "outputs": [
    {
     "data": {
      "text/plain": [
       "(148, 6)"
      ]
     },
     "execution_count": 6,
     "metadata": {},
     "output_type": "execute_result"
    }
   ],
   "source": [
    "df.shape"
   ]
  },
  {
   "cell_type": "code",
   "execution_count": 7,
   "id": "0712f6b2-b802-4252-a1f5-48036f1d4e26",
   "metadata": {},
   "outputs": [
    {
     "data": {
      "text/plain": [
       "4"
      ]
     },
     "execution_count": 7,
     "metadata": {},
     "output_type": "execute_result"
    }
   ],
   "source": [
    "df.duplicated().sum()"
   ]
  },
  {
   "cell_type": "code",
   "execution_count": 8,
   "id": "64fa2587-1829-4f78-83d4-32a878f93273",
   "metadata": {},
   "outputs": [],
   "source": [
    "df.drop_duplicates(inplace = True)"
   ]
  },
  {
   "cell_type": "code",
   "execution_count": 9,
   "id": "ccd20712-a019-4b1f-a80c-4d114cd22229",
   "metadata": {},
   "outputs": [
    {
     "data": {
      "text/plain": [
       "<Axes: >"
      ]
     },
     "execution_count": 9,
     "metadata": {},
     "output_type": "execute_result"
    },
    {
     "data": {
      "image/png": "[encoded data removed]",
      "text/plain": [
       "<Figure size 640x480 with 1 Axes>"
      ]
     },
     "metadata": {},
     "output_type": "display_data"
    }
   ],
   "source": [
    "sns.boxplot(df.select_dtypes(include = [np.number]))"
   ]
  },
  {
   "cell_type": "markdown",
   "id": "6a62b612-eb3e-47cd-a70c-2ae2f2f5eb54",
   "metadata": {},
   "source": [
    "This boxplot is the not scaled so we couldn't able to compare the three different boxplot. So there is a requirement of doing scalling process. "
   ]
  },
  {
   "cell_type": "code",
   "execution_count": 10,
   "id": "ef4ca25d-1fda-4ecb-a7b4-f113bdf4b1dd",
   "metadata": {},
   "outputs": [
    {
     "data": {
      "text/plain": [
       "(144, 6)"
      ]
     },
     "execution_count": 10,
     "metadata": {},
     "output_type": "execute_result"
    }
   ],
   "source": [
    "df.shape"
   ]
  },
  {
   "cell_type": "code",
   "execution_count": 11,
   "id": "2b0bcb06-30f9-47d5-bacf-c8e33b224e85",
   "metadata": {},
   "outputs": [
    {
     "data": {
      "text/plain": [
       "Index(['Company', 'Age', 'Salary', 'Place', 'Country', 'Gender'], dtype='object')"
      ]
     },
     "execution_count": 11,
     "metadata": {},
     "output_type": "execute_result"
    }
   ],
   "source": [
    "df.columns"
   ]
  },
  {
   "cell_type": "code",
   "execution_count": 12,
   "id": "c86355af-16f2-43c9-8a2b-92d69cad65a4",
   "metadata": {},
   "outputs": [
    {
     "name": "stdout",
     "output_type": "stream",
     "text": [
      "Unique values of each columns of each columns are given below -\n",
      "\n",
      "Company:\n",
      " ['TCS' 'Infosys' 'CTS' nan 'Tata Consultancy Services' 'Congnizant'\n",
      " 'Infosys Pvt Lmt']\n",
      "\n",
      "Age:\n",
      " [20. 30. 35. 40. 23. nan 34. 45. 18. 22. 32. 37. 50. 21. 46. 36. 26. 41.\n",
      " 24. 25. 43. 19. 38. 51. 31. 44. 33. 17.  0. 54.]\n",
      "\n",
      "Salary:\n",
      " [  nan 2300. 3000. 4000. 5000. 6000. 7000. 8000. 9000. 1089. 1234. 3030.\n",
      " 3045. 3184. 4824. 5835. 7084. 8943. 8345. 9284. 9876. 2034. 7654. 2934.\n",
      " 4034. 5034. 8202. 9024. 4345. 6544. 6543. 3234. 4324. 5435. 5555. 8787.\n",
      " 3454. 5654. 5009. 5098. 3033.]\n",
      "\n",
      "Gender:\n",
      " [0 1]\n",
      "\n",
      "Place:\n",
      " ['Chennai' 'Mumbai' 'Calcutta' 'Delhi' 'Podicherry' 'Cochin' nan 'Noida'\n",
      " 'Hyderabad' 'Bhopal' 'Nagpur' 'Pune']\n",
      "\n",
      "Country:\n",
      " ['India']\n"
     ]
    }
   ],
   "source": [
    "print(\"Unique values of each columns of each columns are given below -\")\n",
    "print(\"\\nCompany:\\n\", df.Company.unique())\n",
    "print(\"\\nAge:\\n\", df.Age.unique())\n",
    "print(\"\\nSalary:\\n\", df.Salary.unique())\n",
    "print(\"\\nGender:\\n\", df.Gender.unique())\n",
    "print(\"\\nPlace:\\n\", df.Place.unique()) \n",
    "print(\"\\nCountry:\\n\", df.Country.unique())"
   ]
  },
  {
   "cell_type": "markdown",
   "id": "70c31445-b1fe-4e57-b846-943b955f5eb0",
   "metadata": {},
   "source": [
    "A close analysis of each column's unique values shows that there are columns with age zero that should be replaced. Also, we know that the column 'Country' is unimportant."
   ]
  },
  {
   "cell_type": "code",
   "execution_count": 13,
   "id": "996e47ff-59ad-41c9-8cc9-66f1ed863c21",
   "metadata": {},
   "outputs": [],
   "source": [
    "df.drop([\"Country\"], axis = 1, inplace = True)"
   ]
  },
  {
   "cell_type": "code",
   "execution_count": 14,
   "id": "89261baa-9865-4e22-b68c-9a97e70ec1b0",
   "metadata": {},
   "outputs": [],
   "source": [
    "df.Age.replace(0, np.nan, inplace = True)\n",
    "df.Place.replace(\"Podicherry\", \"Puducherry\", inplace = True)"
   ]
  },
  {
   "cell_type": "code",
   "execution_count": 15,
   "id": "8ac0d6a3-ea4f-46dc-a092-cfd25a752bd3",
   "metadata": {},
   "outputs": [
    {
     "data": {
      "text/plain": [
       "Company     8\n",
       "Age        23\n",
       "Salary     23\n",
       "Place      14\n",
       "Gender      0\n",
       "dtype: int64"
      ]
     },
     "execution_count": 15,
     "metadata": {},
     "output_type": "execute_result"
    }
   ],
   "source": [
    "df.isnull().sum()"
   ]
  },
  {
   "cell_type": "code",
   "execution_count": 16,
   "id": "93fb76d9-2bd4-47a6-b318-d1ccfa8338b6",
   "metadata": {},
   "outputs": [
    {
     "data": {
      "image/png": "[encoded data removed]",
      "text/plain": [
       "<Figure size 640x480 with 1 Axes>"
      ]
     },
     "metadata": {},
     "output_type": "display_data"
    },
    {
     "data": {
      "image/png": "[encoded data removed]",
      "text/plain": [
       "<Figure size 640x480 with 1 Axes>"
      ]
     },
     "metadata": {},
     "output_type": "display_data"
    }
   ],
   "source": [
    "sns.boxplot(df.Age)\n",
    "plt.show()\n",
    "\n",
    "sns.boxplot(df.Salary) \n",
    "plt.show()\n"
   ]
  },
  {
   "cell_type": "markdown",
   "id": "bf9c9612-6d4d-4c93-9928-da5c7c4085ab",
   "metadata": {},
   "source": [
    "This plot shows that there are no outliers. So we can fill the null columns using mean."
   ]
  },
  {
   "cell_type": "code",
   "execution_count": 17,
   "id": "a46ee61b-8c35-40bd-bc1c-e8d8c35de951",
   "metadata": {},
   "outputs": [
    {
     "data": {
      "text/plain": [
       "Company    0\n",
       "Age        0\n",
       "Salary     0\n",
       "Place      0\n",
       "Gender     0\n",
       "dtype: int64"
      ]
     },
     "execution_count": 17,
     "metadata": {},
     "output_type": "execute_result"
    }
   ],
   "source": [
    "df.Company.fillna(df.Company.mode()[0], inplace = True)\n",
    "df.Salary.fillna(df.Salary.mean().round(2), inplace = True)\n",
    "df.Place.fillna(df.Place.mode()[0], inplace = True)\n",
    "df.Age.fillna(df.Age.mean().round(2), inplace = True) \n",
    "\n",
    "df.isnull().sum()"
   ]
  },
  {
   "cell_type": "code",
   "execution_count": 18,
   "id": "d0a86f87-5d4d-4fca-b90a-835679f62b4e",
   "metadata": {},
   "outputs": [
    {
     "name": "stdout",
     "output_type": "stream",
     "text": [
      "Unique values of each columns of each columns are given below -\n",
      "\n",
      "Company:\n",
      " ['TCS' 'Infosys' 'CTS' 'Tata Consultancy Services' 'Congnizant'\n",
      " 'Infosys Pvt Lmt'] \n",
      "and number of unique value are:  6\n",
      "\n",
      "Age:\n",
      " [20.   30.   35.   40.   23.   32.04 34.   45.   18.   22.   32.   37.\n",
      " 50.   21.   46.   36.   26.   41.   24.   25.   43.   19.   38.   51.\n",
      " 31.   44.   33.   17.   54.  ] \n",
      "and number of unique value are:  29\n",
      "\n",
      "Salary:\n",
      " [5283.47 2300.   3000.   4000.   5000.   6000.   7000.   8000.   9000.\n",
      " 1089.   1234.   3030.   3045.   3184.   4824.   5835.   7084.   8943.\n",
      " 8345.   9284.   9876.   2034.   7654.   2934.   4034.   5034.   8202.\n",
      " 9024.   4345.   6544.   6543.   3234.   4324.   5435.   5555.   8787.\n",
      " 3454.   5654.   5009.   5098.   3033.  ] \n",
      "and number of unique value are:  41\n",
      "\n",
      "Gender:\n",
      " [0 1] \n",
      "and number of unique value are:  2\n",
      "\n",
      "Place:\n",
      " ['Chennai' 'Mumbai' 'Calcutta' 'Delhi' 'Puducherry' 'Cochin' 'Noida'\n",
      " 'Hyderabad' 'Bhopal' 'Nagpur' 'Pune'] \n",
      "and number of unique value are:  11\n"
     ]
    }
   ],
   "source": [
    "print(\"Unique values of each columns of each columns are given below -\")\n",
    "print(\"\\nCompany:\\n\", df.Company.unique(), \"\\nand number of unique value are: \", df.Company.nunique())\n",
    "print(\"\\nAge:\\n\", df.Age.unique(), \"\\nand number of unique value are: \", df.Age.nunique())\n",
    "print(\"\\nSalary:\\n\", df.Salary.unique(), \"\\nand number of unique value are: \", df.Salary.nunique())\n",
    "print(\"\\nGender:\\n\", df.Gender.unique(), \"\\nand number of unique value are: \", df.Gender.nunique())\n",
    "print(\"\\nPlace:\\n\", df.Place.unique(), \"\\nand number of unique value are: \", df.Place.nunique()) "
   ]
  },
  {
   "cell_type": "markdown",
   "id": "731ee7ce-9636-4e74-b576-1b1a12a45827",
   "metadata": {},
   "source": [
    "From the above cell, it is clear that there is no null value, inappropriate value or other errors."
   ]
  },
  {
   "cell_type": "markdown",
   "id": "96f5751f-0897-44cf-80c5-2db8c43e9cdd",
   "metadata": {},
   "source": [
    "## Data Analysis"
   ]
  },
  {
   "cell_type": "code",
   "execution_count": 19,
   "id": "8af46e2e-0fc4-4101-90a8-e2208263d4c1",
   "metadata": {},
   "outputs": [
    {
     "data": {
      "text/html": [
       "<div>\n",
       "<style scoped>\n",
       "    .dataframe tbody tr th:only-of-type {\n",
       "        vertical-align: middle;\n",
       "    }\n",
       "\n",
       "    .dataframe tbody tr th {\n",
       "        vertical-align: top;\n",
       "    }\n",
       "\n",
       "    .dataframe thead th {\n",
       "        text-align: right;\n",
       "    }\n",
       "</style>\n",
       "<table border=\"1\" class=\"dataframe\">\n",
       "  <thead>\n",
       "    <tr style=\"text-align: right;\">\n",
       "      <th></th>\n",
       "      <th>Company</th>\n",
       "      <th>Age</th>\n",
       "      <th>Salary</th>\n",
       "      <th>Place</th>\n",
       "      <th>Gender</th>\n",
       "    </tr>\n",
       "  </thead>\n",
       "  <tbody>\n",
       "    <tr>\n",
       "      <th>21</th>\n",
       "      <td>Infosys</td>\n",
       "      <td>50.0</td>\n",
       "      <td>3184.0</td>\n",
       "      <td>Delhi</td>\n",
       "      <td>0</td>\n",
       "    </tr>\n",
       "    <tr>\n",
       "      <th>32</th>\n",
       "      <td>Infosys</td>\n",
       "      <td>45.0</td>\n",
       "      <td>4034.0</td>\n",
       "      <td>Calcutta</td>\n",
       "      <td>0</td>\n",
       "    </tr>\n",
       "    <tr>\n",
       "      <th>39</th>\n",
       "      <td>Infosys</td>\n",
       "      <td>41.0</td>\n",
       "      <td>3000.0</td>\n",
       "      <td>Mumbai</td>\n",
       "      <td>0</td>\n",
       "    </tr>\n",
       "    <tr>\n",
       "      <th>50</th>\n",
       "      <td>Infosys</td>\n",
       "      <td>41.0</td>\n",
       "      <td>3000.0</td>\n",
       "      <td>Chennai</td>\n",
       "      <td>0</td>\n",
       "    </tr>\n",
       "    <tr>\n",
       "      <th>57</th>\n",
       "      <td>Infosys</td>\n",
       "      <td>51.0</td>\n",
       "      <td>3184.0</td>\n",
       "      <td>Hyderabad</td>\n",
       "      <td>0</td>\n",
       "    </tr>\n",
       "    <tr>\n",
       "      <th>68</th>\n",
       "      <td>Infosys</td>\n",
       "      <td>43.0</td>\n",
       "      <td>4034.0</td>\n",
       "      <td>Mumbai</td>\n",
       "      <td>0</td>\n",
       "    </tr>\n",
       "    <tr>\n",
       "      <th>75</th>\n",
       "      <td>Infosys</td>\n",
       "      <td>44.0</td>\n",
       "      <td>3000.0</td>\n",
       "      <td>Cochin</td>\n",
       "      <td>0</td>\n",
       "    </tr>\n",
       "    <tr>\n",
       "      <th>86</th>\n",
       "      <td>Infosys</td>\n",
       "      <td>41.0</td>\n",
       "      <td>3000.0</td>\n",
       "      <td>Delhi</td>\n",
       "      <td>0</td>\n",
       "    </tr>\n",
       "    <tr>\n",
       "      <th>93</th>\n",
       "      <td>Infosys</td>\n",
       "      <td>54.0</td>\n",
       "      <td>3184.0</td>\n",
       "      <td>Mumbai</td>\n",
       "      <td>0</td>\n",
       "    </tr>\n",
       "    <tr>\n",
       "      <th>104</th>\n",
       "      <td>Infosys</td>\n",
       "      <td>44.0</td>\n",
       "      <td>4034.0</td>\n",
       "      <td>Delhi</td>\n",
       "      <td>0</td>\n",
       "    </tr>\n",
       "    <tr>\n",
       "      <th>122</th>\n",
       "      <td>Infosys</td>\n",
       "      <td>44.0</td>\n",
       "      <td>3234.0</td>\n",
       "      <td>Mumbai</td>\n",
       "      <td>0</td>\n",
       "    </tr>\n",
       "    <tr>\n",
       "      <th>129</th>\n",
       "      <td>Infosys</td>\n",
       "      <td>50.0</td>\n",
       "      <td>3184.0</td>\n",
       "      <td>Calcutta</td>\n",
       "      <td>0</td>\n",
       "    </tr>\n",
       "    <tr>\n",
       "      <th>138</th>\n",
       "      <td>CTS</td>\n",
       "      <td>44.0</td>\n",
       "      <td>3033.0</td>\n",
       "      <td>Cochin</td>\n",
       "      <td>0</td>\n",
       "    </tr>\n",
       "    <tr>\n",
       "      <th>140</th>\n",
       "      <td>Infosys</td>\n",
       "      <td>44.0</td>\n",
       "      <td>4034.0</td>\n",
       "      <td>Hyderabad</td>\n",
       "      <td>0</td>\n",
       "    </tr>\n",
       "    <tr>\n",
       "      <th>145</th>\n",
       "      <td>Infosys</td>\n",
       "      <td>44.0</td>\n",
       "      <td>4034.0</td>\n",
       "      <td>Delhi</td>\n",
       "      <td>1</td>\n",
       "    </tr>\n",
       "  </tbody>\n",
       "</table>\n",
       "</div>"
      ],
      "text/plain": [
       "     Company   Age  Salary      Place  Gender\n",
       "21   Infosys  50.0  3184.0      Delhi       0\n",
       "32   Infosys  45.0  4034.0   Calcutta       0\n",
       "39   Infosys  41.0  3000.0     Mumbai       0\n",
       "50   Infosys  41.0  3000.0    Chennai       0\n",
       "57   Infosys  51.0  3184.0  Hyderabad       0\n",
       "68   Infosys  43.0  4034.0     Mumbai       0\n",
       "75   Infosys  44.0  3000.0     Cochin       0\n",
       "86   Infosys  41.0  3000.0      Delhi       0\n",
       "93   Infosys  54.0  3184.0     Mumbai       0\n",
       "104  Infosys  44.0  4034.0      Delhi       0\n",
       "122  Infosys  44.0  3234.0     Mumbai       0\n",
       "129  Infosys  50.0  3184.0   Calcutta       0\n",
       "138      CTS  44.0  3033.0     Cochin       0\n",
       "140  Infosys  44.0  4034.0  Hyderabad       0\n",
       "145  Infosys  44.0  4034.0      Delhi       1"
      ]
     },
     "execution_count": 19,
     "metadata": {},
     "output_type": "execute_result"
    }
   ],
   "source": [
    "df1 = df[(df[\"Age\"] > 40) & (df[\"Salary\"] < 5000)] \n",
    "df1"
   ]
  },
  {
   "cell_type": "code",
   "execution_count": 20,
   "id": "52d9e0e2-9b77-4e23-833e-d620d8f98de5",
   "metadata": {},
   "outputs": [
    {
     "name": "stdout",
     "output_type": "stream",
     "text": [
      "             Age    Salary\n",
      "Age     1.000000 -0.111893\n",
      "Salary -0.111893  1.000000\n"
     ]
    },
    {
     "data": {
      "image/png": "[encoded data removed]",
      "text/plain": [
       "<Figure size 640x480 with 2 Axes>"
      ]
     },
     "metadata": {},
     "output_type": "display_data"
    }
   ],
   "source": [
    "print(df1[[\"Age\", \"Salary\"]].corr())\n",
    "\n",
    "sns.heatmap(df1[[\"Age\", \"Salary\"]].corr(), cmap = \"viridis\", annot = True)\n",
    "plt.show()"
   ]
  },
  {
   "cell_type": "code",
   "execution_count": 21,
   "id": "cfdb13ac-36a7-492d-ac9d-cc466d563719",
   "metadata": {},
   "outputs": [
    {
     "data": {
      "text/plain": [
       "Place\n",
       "Delhi        4\n",
       "Mumbai       4\n",
       "Calcutta     2\n",
       "Hyderabad    2\n",
       "Cochin       2\n",
       "Chennai      1\n",
       "Name: count, dtype: int64"
      ]
     },
     "execution_count": 21,
     "metadata": {},
     "output_type": "execute_result"
    }
   ],
   "source": [
    "df1.Place.value_counts()"
   ]
  },
  {
   "cell_type": "code",
   "execution_count": 22,
   "id": "b0ca8cb0-21fa-4efd-b16e-f67a30ddf32b",
   "metadata": {},
   "outputs": [
    {
     "data": {
      "image/png": "[encoded data removed]",
      "text/plain": [
       "<Figure size 640x480 with 1 Axes>"
      ]
     },
     "metadata": {},
     "output_type": "display_data"
    }
   ],
   "source": [
    "sns.countplot(df1.Place, color = 'olivedrab')\n",
    "plt.xlabel(\"No. of people\") \n",
    "plt.show()"
   ]
  },
  {
   "cell_type": "markdown",
   "id": "28c1a739-12d7-4e45-aa07-3d0a809e4d5f",
   "metadata": {},
   "source": [
    "## Data Encoding"
   ]
  },
  {
   "cell_type": "code",
   "execution_count": 23,
   "id": "fc429c17-8969-453b-a5ee-79d1f5609939",
   "metadata": {},
   "outputs": [],
   "source": [
    "df2 = df.copy()"
   ]
  },
  {
   "cell_type": "code",
   "execution_count": 24,
   "id": "fa5b5a7a-bc37-4c35-9500-47eebd7745ff",
   "metadata": {},
   "outputs": [
    {
     "name": "stdout",
     "output_type": "stream",
     "text": [
      "     Company   Age   Salary  Place  Gender\n",
      "0          4  20.0  5283.47      2       0\n",
      "1          2  30.0  5283.47      6       0\n",
      "2          4  35.0  2300.00      1       0\n",
      "3          2  40.0  3000.00      4       0\n",
      "4          4  23.0  4000.00      6       0\n",
      "..       ...   ...      ...    ...     ...\n",
      "142        3  22.0  8202.00      6       0\n",
      "143        4  33.0  9024.00      1       1\n",
      "145        2  44.0  4034.00      4       1\n",
      "146        4  33.0  5034.00      6       1\n",
      "147        2  22.0  8202.00      3       0\n",
      "\n",
      "[144 rows x 5 columns]\n"
     ]
    }
   ],
   "source": [
    "from sklearn.preprocessing import LabelEncoder \n",
    "\n",
    "label_encoder = LabelEncoder() \n",
    "for i in df2.select_dtypes(include = [\"object\"]): \n",
    "    df2[i] = label_encoder.fit_transform(df2[i])\n",
    "print(df2)"
   ]
  },
  {
   "cell_type": "code",
   "execution_count": 25,
   "id": "54910971-fbda-42f7-a15b-a7b0f50dd69d",
   "metadata": {},
   "outputs": [
    {
     "data": {
      "text/html": [
       "<div>\n",
       "<style scoped>\n",
       "    .dataframe tbody tr th:only-of-type {\n",
       "        vertical-align: middle;\n",
       "    }\n",
       "\n",
       "    .dataframe tbody tr th {\n",
       "        vertical-align: top;\n",
       "    }\n",
       "\n",
       "    .dataframe thead th {\n",
       "        text-align: right;\n",
       "    }\n",
       "</style>\n",
       "<table border=\"1\" class=\"dataframe\">\n",
       "  <thead>\n",
       "    <tr style=\"text-align: right;\">\n",
       "      <th></th>\n",
       "      <th>Age</th>\n",
       "      <th>Salary</th>\n",
       "      <th>Gender</th>\n",
       "      <th>Company_CTS</th>\n",
       "      <th>Company_Congnizant</th>\n",
       "      <th>Company_Infosys</th>\n",
       "      <th>Company_Infosys Pvt Lmt</th>\n",
       "      <th>Company_TCS</th>\n",
       "      <th>Company_Tata Consultancy Services</th>\n",
       "      <th>Place_Bhopal</th>\n",
       "      <th>Place_Calcutta</th>\n",
       "      <th>Place_Chennai</th>\n",
       "      <th>Place_Cochin</th>\n",
       "      <th>Place_Delhi</th>\n",
       "      <th>Place_Hyderabad</th>\n",
       "      <th>Place_Mumbai</th>\n",
       "      <th>Place_Nagpur</th>\n",
       "      <th>Place_Noida</th>\n",
       "      <th>Place_Puducherry</th>\n",
       "      <th>Place_Pune</th>\n",
       "    </tr>\n",
       "  </thead>\n",
       "  <tbody>\n",
       "    <tr>\n",
       "      <th>0</th>\n",
       "      <td>20.0</td>\n",
       "      <td>5283.47</td>\n",
       "      <td>0</td>\n",
       "      <td>False</td>\n",
       "      <td>False</td>\n",
       "      <td>False</td>\n",
       "      <td>False</td>\n",
       "      <td>True</td>\n",
       "      <td>False</td>\n",
       "      <td>False</td>\n",
       "      <td>False</td>\n",
       "      <td>True</td>\n",
       "      <td>False</td>\n",
       "      <td>False</td>\n",
       "      <td>False</td>\n",
       "      <td>False</td>\n",
       "      <td>False</td>\n",
       "      <td>False</td>\n",
       "      <td>False</td>\n",
       "      <td>False</td>\n",
       "    </tr>\n",
       "    <tr>\n",
       "      <th>1</th>\n",
       "      <td>30.0</td>\n",
       "      <td>5283.47</td>\n",
       "      <td>0</td>\n",
       "      <td>False</td>\n",
       "      <td>False</td>\n",
       "      <td>True</td>\n",
       "      <td>False</td>\n",
       "      <td>False</td>\n",
       "      <td>False</td>\n",
       "      <td>False</td>\n",
       "      <td>False</td>\n",
       "      <td>False</td>\n",
       "      <td>False</td>\n",
       "      <td>False</td>\n",
       "      <td>False</td>\n",
       "      <td>True</td>\n",
       "      <td>False</td>\n",
       "      <td>False</td>\n",
       "      <td>False</td>\n",
       "      <td>False</td>\n",
       "    </tr>\n",
       "    <tr>\n",
       "      <th>2</th>\n",
       "      <td>35.0</td>\n",
       "      <td>2300.00</td>\n",
       "      <td>0</td>\n",
       "      <td>False</td>\n",
       "      <td>False</td>\n",
       "      <td>False</td>\n",
       "      <td>False</td>\n",
       "      <td>True</td>\n",
       "      <td>False</td>\n",
       "      <td>False</td>\n",
       "      <td>True</td>\n",
       "      <td>False</td>\n",
       "      <td>False</td>\n",
       "      <td>False</td>\n",
       "      <td>False</td>\n",
       "      <td>False</td>\n",
       "      <td>False</td>\n",
       "      <td>False</td>\n",
       "      <td>False</td>\n",
       "      <td>False</td>\n",
       "    </tr>\n",
       "    <tr>\n",
       "      <th>3</th>\n",
       "      <td>40.0</td>\n",
       "      <td>3000.00</td>\n",
       "      <td>0</td>\n",
       "      <td>False</td>\n",
       "      <td>False</td>\n",
       "      <td>True</td>\n",
       "      <td>False</td>\n",
       "      <td>False</td>\n",
       "      <td>False</td>\n",
       "      <td>False</td>\n",
       "      <td>False</td>\n",
       "      <td>False</td>\n",
       "      <td>False</td>\n",
       "      <td>True</td>\n",
       "      <td>False</td>\n",
       "      <td>False</td>\n",
       "      <td>False</td>\n",
       "      <td>False</td>\n",
       "      <td>False</td>\n",
       "      <td>False</td>\n",
       "    </tr>\n",
       "    <tr>\n",
       "      <th>4</th>\n",
       "      <td>23.0</td>\n",
       "      <td>4000.00</td>\n",
       "      <td>0</td>\n",
       "      <td>False</td>\n",
       "      <td>False</td>\n",
       "      <td>False</td>\n",
       "      <td>False</td>\n",
       "      <td>True</td>\n",
       "      <td>False</td>\n",
       "      <td>False</td>\n",
       "      <td>False</td>\n",
       "      <td>False</td>\n",
       "      <td>False</td>\n",
       "      <td>False</td>\n",
       "      <td>False</td>\n",
       "      <td>True</td>\n",
       "      <td>False</td>\n",
       "      <td>False</td>\n",
       "      <td>False</td>\n",
       "      <td>False</td>\n",
       "    </tr>\n",
       "    <tr>\n",
       "      <th>...</th>\n",
       "      <td>...</td>\n",
       "      <td>...</td>\n",
       "      <td>...</td>\n",
       "      <td>...</td>\n",
       "      <td>...</td>\n",
       "      <td>...</td>\n",
       "      <td>...</td>\n",
       "      <td>...</td>\n",
       "      <td>...</td>\n",
       "      <td>...</td>\n",
       "      <td>...</td>\n",
       "      <td>...</td>\n",
       "      <td>...</td>\n",
       "      <td>...</td>\n",
       "      <td>...</td>\n",
       "      <td>...</td>\n",
       "      <td>...</td>\n",
       "      <td>...</td>\n",
       "      <td>...</td>\n",
       "      <td>...</td>\n",
       "    </tr>\n",
       "    <tr>\n",
       "      <th>142</th>\n",
       "      <td>22.0</td>\n",
       "      <td>8202.00</td>\n",
       "      <td>0</td>\n",
       "      <td>False</td>\n",
       "      <td>False</td>\n",
       "      <td>False</td>\n",
       "      <td>True</td>\n",
       "      <td>False</td>\n",
       "      <td>False</td>\n",
       "      <td>False</td>\n",
       "      <td>False</td>\n",
       "      <td>False</td>\n",
       "      <td>False</td>\n",
       "      <td>False</td>\n",
       "      <td>False</td>\n",
       "      <td>True</td>\n",
       "      <td>False</td>\n",
       "      <td>False</td>\n",
       "      <td>False</td>\n",
       "      <td>False</td>\n",
       "    </tr>\n",
       "    <tr>\n",
       "      <th>143</th>\n",
       "      <td>33.0</td>\n",
       "      <td>9024.00</td>\n",
       "      <td>1</td>\n",
       "      <td>False</td>\n",
       "      <td>False</td>\n",
       "      <td>False</td>\n",
       "      <td>False</td>\n",
       "      <td>True</td>\n",
       "      <td>False</td>\n",
       "      <td>False</td>\n",
       "      <td>True</td>\n",
       "      <td>False</td>\n",
       "      <td>False</td>\n",
       "      <td>False</td>\n",
       "      <td>False</td>\n",
       "      <td>False</td>\n",
       "      <td>False</td>\n",
       "      <td>False</td>\n",
       "      <td>False</td>\n",
       "      <td>False</td>\n",
       "    </tr>\n",
       "    <tr>\n",
       "      <th>145</th>\n",
       "      <td>44.0</td>\n",
       "      <td>4034.00</td>\n",
       "      <td>1</td>\n",
       "      <td>False</td>\n",
       "      <td>False</td>\n",
       "      <td>True</td>\n",
       "      <td>False</td>\n",
       "      <td>False</td>\n",
       "      <td>False</td>\n",
       "      <td>False</td>\n",
       "      <td>False</td>\n",
       "      <td>False</td>\n",
       "      <td>False</td>\n",
       "      <td>True</td>\n",
       "      <td>False</td>\n",
       "      <td>False</td>\n",
       "      <td>False</td>\n",
       "      <td>False</td>\n",
       "      <td>False</td>\n",
       "      <td>False</td>\n",
       "    </tr>\n",
       "    <tr>\n",
       "      <th>146</th>\n",
       "      <td>33.0</td>\n",
       "      <td>5034.00</td>\n",
       "      <td>1</td>\n",
       "      <td>False</td>\n",
       "      <td>False</td>\n",
       "      <td>False</td>\n",
       "      <td>False</td>\n",
       "      <td>True</td>\n",
       "      <td>False</td>\n",
       "      <td>False</td>\n",
       "      <td>False</td>\n",
       "      <td>False</td>\n",
       "      <td>False</td>\n",
       "      <td>False</td>\n",
       "      <td>False</td>\n",
       "      <td>True</td>\n",
       "      <td>False</td>\n",
       "      <td>False</td>\n",
       "      <td>False</td>\n",
       "      <td>False</td>\n",
       "    </tr>\n",
       "    <tr>\n",
       "      <th>147</th>\n",
       "      <td>22.0</td>\n",
       "      <td>8202.00</td>\n",
       "      <td>0</td>\n",
       "      <td>False</td>\n",
       "      <td>False</td>\n",
       "      <td>True</td>\n",
       "      <td>False</td>\n",
       "      <td>False</td>\n",
       "      <td>False</td>\n",
       "      <td>False</td>\n",
       "      <td>False</td>\n",
       "      <td>False</td>\n",
       "      <td>True</td>\n",
       "      <td>False</td>\n",
       "      <td>False</td>\n",
       "      <td>False</td>\n",
       "      <td>False</td>\n",
       "      <td>False</td>\n",
       "      <td>False</td>\n",
       "      <td>False</td>\n",
       "    </tr>\n",
       "  </tbody>\n",
       "</table>\n",
       "<p>144 rows × 20 columns</p>\n",
       "</div>"
      ],
      "text/plain": [
       "      Age   Salary  Gender  Company_CTS  Company_Congnizant  Company_Infosys  \\\n",
       "0    20.0  5283.47       0        False               False            False   \n",
       "1    30.0  5283.47       0        False               False             True   \n",
       "2    35.0  2300.00       0        False               False            False   \n",
       "3    40.0  3000.00       0        False               False             True   \n",
       "4    23.0  4000.00       0        False               False            False   \n",
       "..    ...      ...     ...          ...                 ...              ...   \n",
       "142  22.0  8202.00       0        False               False            False   \n",
       "143  33.0  9024.00       1        False               False            False   \n",
       "145  44.0  4034.00       1        False               False             True   \n",
       "146  33.0  5034.00       1        False               False            False   \n",
       "147  22.0  8202.00       0        False               False             True   \n",
       "\n",
       "     Company_Infosys Pvt Lmt  Company_TCS  Company_Tata Consultancy Services  \\\n",
       "0                      False         True                              False   \n",
       "1                      False        False                              False   \n",
       "2                      False         True                              False   \n",
       "3                      False        False                              False   \n",
       "4                      False         True                              False   \n",
       "..                       ...          ...                                ...   \n",
       "142                     True        False                              False   \n",
       "143                    False         True                              False   \n",
       "145                    False        False                              False   \n",
       "146                    False         True                              False   \n",
       "147                    False        False                              False   \n",
       "\n",
       "     Place_Bhopal  Place_Calcutta  Place_Chennai  Place_Cochin  Place_Delhi  \\\n",
       "0           False           False           True         False        False   \n",
       "1           False           False          False         False        False   \n",
       "2           False            True          False         False        False   \n",
       "3           False           False          False         False         True   \n",
       "4           False           False          False         False        False   \n",
       "..            ...             ...            ...           ...          ...   \n",
       "142         False           False          False         False        False   \n",
       "143         False            True          False         False        False   \n",
       "145         False           False          False         False         True   \n",
       "146         False           False          False         False        False   \n",
       "147         False           False          False          True        False   \n",
       "\n",
       "     Place_Hyderabad  Place_Mumbai  Place_Nagpur  Place_Noida  \\\n",
       "0              False         False         False        False   \n",
       "1              False          True         False        False   \n",
       "2              False         False         False        False   \n",
       "3              False         False         False        False   \n",
       "4              False          True         False        False   \n",
       "..               ...           ...           ...          ...   \n",
       "142            False          True         False        False   \n",
       "143            False         False         False        False   \n",
       "145            False         False         False        False   \n",
       "146            False          True         False        False   \n",
       "147            False         False         False        False   \n",
       "\n",
       "     Place_Puducherry  Place_Pune  \n",
       "0               False       False  \n",
       "1               False       False  \n",
       "2               False       False  \n",
       "3               False       False  \n",
       "4               False       False  \n",
       "..                ...         ...  \n",
       "142             False       False  \n",
       "143             False       False  \n",
       "145             False       False  \n",
       "146             False       False  \n",
       "147             False       False  \n",
       "\n",
       "[144 rows x 20 columns]"
      ]
     },
     "execution_count": 25,
     "metadata": {},
     "output_type": "execute_result"
    }
   ],
   "source": [
    "one_hot_encoder = pd.get_dummies(data = df, columns = [\"Company\", \"Place\"])\n",
    "one_hot_encoder"
   ]
  },
  {
   "cell_type": "markdown",
   "id": "2055d97e-dd51-4b7b-bf0f-c64c6c87a5e3",
   "metadata": {},
   "source": [
    "## Feature Scaling"
   ]
  },
  {
   "cell_type": "code",
   "execution_count": 26,
   "id": "e14307c8-61dd-4e76-8510-a3da4603e6ee",
   "metadata": {},
   "outputs": [
    {
     "name": "stdout",
     "output_type": "stream",
     "text": [
      "[[-1.46735007e+00 -3.82514739e-07 -5.34522484e-01 ... -2.42535625e-01\n",
      "  -1.45864991e-01 -1.18678166e-01]\n",
      " [-2.48733237e-01 -3.82514739e-07 -5.34522484e-01 ... -2.42535625e-01\n",
      "  -1.45864991e-01 -1.18678166e-01]\n",
      " [ 3.60575182e-01 -1.26412238e+00 -5.34522484e-01 ... -2.42535625e-01\n",
      "  -1.45864991e-01 -1.18678166e-01]\n",
      " ...\n",
      " [ 1.45733034e+00 -5.29411609e-01  1.87082869e+00 ... -2.42535625e-01\n",
      "  -1.45864991e-01 -1.18678166e-01]\n",
      " [ 1.16851814e-01 -1.05702975e-01  1.87082869e+00 ... -2.42535625e-01\n",
      "  -1.45864991e-01 -1.18678166e-01]\n",
      " [-1.22362671e+00  1.23660598e+00 -5.34522484e-01 ... -2.42535625e-01\n",
      "  -1.45864991e-01 -1.18678166e-01]]\n"
     ]
    }
   ],
   "source": [
    "from sklearn.preprocessing import StandardScaler\n",
    "\n",
    "standard_scaler = StandardScaler()\n",
    "print(standard_scaler.fit_transform(one_hot_encoder)) "
   ]
  },
  {
   "cell_type": "code",
   "execution_count": 27,
   "id": "e6b65f91-c51f-41cc-b1dd-5e7ac65021b3",
   "metadata": {},
   "outputs": [
    {
     "name": "stdout",
     "output_type": "stream",
     "text": [
      "[[0.08108108 0.47734949 0.         ... 0.         0.         0.        ]\n",
      " [0.35135135 0.47734949 0.         ... 0.         0.         0.        ]\n",
      " [0.48648649 0.13781723 0.         ... 0.         0.         0.        ]\n",
      " ...\n",
      " [0.72972973 0.33515421 1.         ... 0.         0.         0.        ]\n",
      " [0.43243243 0.44895869 1.         ... 0.         0.         0.        ]\n",
      " [0.13513514 0.80949129 0.         ... 0.         0.         0.        ]]\n"
     ]
    }
   ],
   "source": [
    "from sklearn.preprocessing import MinMaxScaler\n",
    "\n",
    "min_max_scaler = MinMaxScaler()\n",
    "print(min_max_scaler.fit_transform(one_hot_encoder)) "
   ]
  }
 ],
 "metadata": {
  "kernelspec": {
   "display_name": "Python 3 (ipykernel)",
   "language": "python",
   "name": "python3"
  },
  "language_info": {
   "codemirror_mode": {
    "name": "ipython",
    "version": 3
   },
   "file_extension": ".py",
   "mimetype": "text/x-python",
   "name": "python",
   "nbconvert_exporter": "python",
   "pygments_lexer": "ipython3",
   "version": "3.12.0"
  }
 },
 "nbformat": 4,
 "nbformat_minor": 5
}
